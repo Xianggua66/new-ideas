{
  "nbformat": 4,
  "nbformat_minor": 0,
  "metadata": {
    "colab": {
      "name": "填充和步幅.ipynb",
      "provenance": []
    },
    "kernelspec": {
      "name": "python3",
      "display_name": "Python 3"
    },
    "language_info": {
      "name": "python"
    }
  },
  "cells": [
    {
      "cell_type": "markdown",
      "metadata": {
        "id": "86kMSQIXTTZN"
      },
      "source": [
        "在所有侧边填充1个像素"
      ]
    },
    {
      "cell_type": "code",
      "metadata": {
        "colab": {
          "base_uri": "https://localhost:8080/"
        },
        "id": "rtUsF-v8TNBb",
        "outputId": "bdf96c88-4df9-47a7-fd7d-31f483b6c8fd"
      },
      "source": [
        "import torch\n",
        "from torch import nn\n",
        "\n",
        "def comp_conv2d(conv2d,X):\n",
        "  X=X.reshape((1,1)+X.shape)#扩展为4维\n",
        "  Y=conv2d(X)\n",
        "  return Y.reshape(Y.shape[2:])#返回后两维\n",
        "\n",
        "conv2d=nn.Conv2d(1,1,kernel_size=3,padding=1)\n",
        "X=torch.rand(size=(8,8))\n",
        "comp_conv2d(conv2d,X).shape"
      ],
      "execution_count": 2,
      "outputs": [
        {
          "output_type": "execute_result",
          "data": {
            "text/plain": [
              "torch.Size([8, 8])"
            ]
          },
          "metadata": {
            "tags": []
          },
          "execution_count": 2
        }
      ]
    },
    {
      "cell_type": "markdown",
      "metadata": {
        "id": "wbUPcaaEUqzH"
      },
      "source": [
        "填充不同的高度和宽度"
      ]
    },
    {
      "cell_type": "code",
      "metadata": {
        "colab": {
          "base_uri": "https://localhost:8080/"
        },
        "id": "ArFPHjBlUOhq",
        "outputId": "cc4decb2-fc2c-4f5c-e1a0-e901b3bda136"
      },
      "source": [
        "conv2d=nn.Conv2d(1,1,kernel_size=(5,3),padding=(2,1))\n",
        "comp_conv2d(conv2d,X).shape"
      ],
      "execution_count": 3,
      "outputs": [
        {
          "output_type": "execute_result",
          "data": {
            "text/plain": [
              "torch.Size([8, 8])"
            ]
          },
          "metadata": {
            "tags": []
          },
          "execution_count": 3
        }
      ]
    },
    {
      "cell_type": "markdown",
      "metadata": {
        "id": "couGiJ0xVVy1"
      },
      "source": [
        "将高度和宽度的步幅设置为2"
      ]
    },
    {
      "cell_type": "code",
      "metadata": {
        "colab": {
          "base_uri": "https://localhost:8080/"
        },
        "id": "O3oosL4uVK4h",
        "outputId": "f5414d9a-43d6-441e-b8a9-5a3c570b0c43"
      },
      "source": [
        "conv2d=nn.Conv2d(1,1,kernel_size=3,padding=1,stride=2)\n",
        "comp_conv2d(conv2d,X).shape"
      ],
      "execution_count": 5,
      "outputs": [
        {
          "output_type": "execute_result",
          "data": {
            "text/plain": [
              "torch.Size([4, 4])"
            ]
          },
          "metadata": {
            "tags": []
          },
          "execution_count": 5
        }
      ]
    },
    {
      "cell_type": "markdown",
      "metadata": {
        "id": "AzSU6QdKVwwI"
      },
      "source": [
        "一个稍微复杂的例子"
      ]
    },
    {
      "cell_type": "code",
      "metadata": {
        "colab": {
          "base_uri": "https://localhost:8080/"
        },
        "id": "c6FojUSPVi0R",
        "outputId": "25bc03ba-99f6-4629-def6-de29521f93d2"
      },
      "source": [
        "conv2d=nn.Conv2d(1,1,kernel_size=(3,5),padding=(0,1),stride=(3,4))\n",
        "comp_conv2d(conv2d,X).shape"
      ],
      "execution_count": 6,
      "outputs": [
        {
          "output_type": "execute_result",
          "data": {
            "text/plain": [
              "torch.Size([2, 2])"
            ]
          },
          "metadata": {
            "tags": []
          },
          "execution_count": 6
        }
      ]
    },
    {
      "cell_type": "code",
      "metadata": {
        "id": "YZLJZ7IiWMuC"
      },
      "source": [
        ""
      ],
      "execution_count": null,
      "outputs": []
    }
  ]
}