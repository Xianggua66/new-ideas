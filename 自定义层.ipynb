{
  "nbformat": 4,
  "nbformat_minor": 0,
  "metadata": {
    "colab": {
      "name": "自定义层.ipynb",
      "provenance": []
    },
    "kernelspec": {
      "name": "python3",
      "display_name": "Python 3"
    },
    "language_info": {
      "name": "python"
    }
  },
  "cells": [
    {
      "cell_type": "markdown",
      "metadata": {
        "id": "8FOJmczmt0da"
      },
      "source": [
        "构造一个没有任何参数的自定义层"
      ]
    },
    {
      "cell_type": "code",
      "metadata": {
        "colab": {
          "base_uri": "https://localhost:8080/"
        },
        "id": "CfLK8YbrtxSg",
        "outputId": "a6c2b769-a0fd-4b1c-8002-50c4434dd0d9"
      },
      "source": [
        "import torch\n",
        "import torch.nn.functional as F\n",
        "from torch import nn\n",
        "\n",
        "class CenteredLayer(nn.Module):\n",
        "  def __init__(self):\n",
        "    super().__init__()\n",
        "\n",
        "  def forward(self,X):\n",
        "    return X-X.mean()\n",
        "  \n",
        "layer=CenteredLayer()\n",
        "layer(torch.FloatTensor([1,2,3,4,5]))"
      ],
      "execution_count": 1,
      "outputs": [
        {
          "output_type": "execute_result",
          "data": {
            "text/plain": [
              "tensor([-2., -1.,  0.,  1.,  2.])"
            ]
          },
          "metadata": {
            "tags": []
          },
          "execution_count": 1
        }
      ]
    },
    {
      "cell_type": "markdown",
      "metadata": {
        "id": "0xVXX7PZt5SX"
      },
      "source": [
        "将层作为组件合并到构建更复杂的模型中"
      ]
    },
    {
      "cell_type": "code",
      "metadata": {
        "id": "PbpmZbMlucp4",
        "colab": {
          "base_uri": "https://localhost:8080/"
        },
        "outputId": "a2613983-3819-4df5-c545-751578a20cab"
      },
      "source": [
        "net=nn.Sequential(nn.Linear(8,128),CenteredLayer())\n",
        "Y=net(torch.rand(4,8))\n",
        "Y.mean()"
      ],
      "execution_count": 2,
      "outputs": [
        {
          "output_type": "execute_result",
          "data": {
            "text/plain": [
              "tensor(4.6566e-09, grad_fn=<MeanBackward0>)"
            ]
          },
          "metadata": {
            "tags": []
          },
          "execution_count": 2
        }
      ]
    },
    {
      "cell_type": "markdown",
      "metadata": {
        "id": "tc-s6jB4uoI2"
      },
      "source": [
        "带参数的图层"
      ]
    },
    {
      "cell_type": "code",
      "metadata": {
        "colab": {
          "base_uri": "https://localhost:8080/"
        },
        "id": "UdlGP2Eauaia",
        "outputId": "10d8a8a4-85c9-4dd1-8301-3f69474d59e0"
      },
      "source": [
        "class MyLinear(nn.Module):\n",
        "  def __init__(self,in_units,units):\n",
        "    super().__init__()\n",
        "    self.weight=nn.Parameter(torch.randn(in_units,units))\n",
        "    self.bias=nn.Parameter(torch.randn(units,))\n",
        "  \n",
        "  def forward(self,X):\n",
        "    linear=torch.matmul(X,self.weight.data)+self.bias.data\n",
        "    return F.relu(linear)\n",
        "\n",
        "dense=MyLinear(5,3)\n",
        "dense.weight"
      ],
      "execution_count": 3,
      "outputs": [
        {
          "output_type": "execute_result",
          "data": {
            "text/plain": [
              "Parameter containing:\n",
              "tensor([[ 0.3537,  1.2581,  1.1359],\n",
              "        [ 1.8705, -1.1480,  2.4796],\n",
              "        [-1.3282,  0.3953,  0.2980],\n",
              "        [ 2.1509,  0.7727,  1.1335],\n",
              "        [ 0.1002, -0.9331,  2.4641]], requires_grad=True)"
            ]
          },
          "metadata": {
            "tags": []
          },
          "execution_count": 3
        }
      ]
    },
    {
      "cell_type": "markdown",
      "metadata": {
        "id": "aq4-agnQwdcC"
      },
      "source": [
        "使用自定义层直接执行正向传播计算"
      ]
    },
    {
      "cell_type": "code",
      "metadata": {
        "colab": {
          "base_uri": "https://localhost:8080/"
        },
        "id": "c7tQiFEIvcmA",
        "outputId": "048db9c5-e975-4b40-dec2-d084f05a39b1"
      },
      "source": [
        "dense(torch.rand(2,5))"
      ],
      "execution_count": 4,
      "outputs": [
        {
          "output_type": "execute_result",
          "data": {
            "text/plain": [
              "tensor([[2.2326, 0.0000, 2.8426],\n",
              "        [1.7489, 0.1799, 2.3966]])"
            ]
          },
          "metadata": {
            "tags": []
          },
          "execution_count": 4
        }
      ]
    },
    {
      "cell_type": "markdown",
      "metadata": {
        "id": "W2bUHSADzLn-"
      },
      "source": [
        "使用自定义层构建模型"
      ]
    },
    {
      "cell_type": "code",
      "metadata": {
        "colab": {
          "base_uri": "https://localhost:8080/"
        },
        "id": "pY1XFb52zI23",
        "outputId": "e89e9fa9-e762-4981-a2c4-088e97a40b8d"
      },
      "source": [
        "net=nn.Sequential(MyLinear(64,8),MyLinear(8,1))\n",
        "net(torch.rand(2,64))"
      ],
      "execution_count": 6,
      "outputs": [
        {
          "output_type": "execute_result",
          "data": {
            "text/plain": [
              "tensor([[11.0102],\n",
              "        [10.5980]])"
            ]
          },
          "metadata": {
            "tags": []
          },
          "execution_count": 6
        }
      ]
    },
    {
      "cell_type": "code",
      "metadata": {
        "id": "u9S8IV48zUQG"
      },
      "source": [
        ""
      ],
      "execution_count": null,
      "outputs": []
    }
  ]
}