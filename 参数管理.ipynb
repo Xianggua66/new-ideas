{
  "nbformat": 4,
  "nbformat_minor": 0,
  "metadata": {
    "colab": {
      "name": "参数管理.ipynb",
      "provenance": []
    },
    "kernelspec": {
      "name": "python3",
      "display_name": "Python 3"
    },
    "language_info": {
      "name": "python"
    }
  },
  "cells": [
    {
      "cell_type": "markdown",
      "metadata": {
        "id": "iq4KrQoGtMZX"
      },
      "source": [
        "我们首先关注具有单隐藏层的多层感知机"
      ]
    },
    {
      "cell_type": "code",
      "metadata": {
        "colab": {
          "base_uri": "https://localhost:8080/"
        },
        "id": "pmmvR2N2tJrW",
        "outputId": "adaa2dc0-71e5-4d9b-ce9d-a32a00c7ee77"
      },
      "source": [
        "import torch\n",
        "from torch import nn\n",
        "\n",
        "net=nn.Sequential(nn.Linear(4,8),nn.ReLU(),nn.Linear(8,1))\n",
        "X=torch.rand(size=(2,4))\n",
        "net(X)"
      ],
      "execution_count": 2,
      "outputs": [
        {
          "output_type": "execute_result",
          "data": {
            "text/plain": [
              "tensor([[0.0761],\n",
              "        [0.0667]], grad_fn=<AddmmBackward>)"
            ]
          },
          "metadata": {
            "tags": []
          },
          "execution_count": 2
        }
      ]
    },
    {
      "cell_type": "markdown",
      "metadata": {
        "id": "B0IWau2Jt61n"
      },
      "source": [
        "参数访问"
      ]
    },
    {
      "cell_type": "code",
      "metadata": {
        "colab": {
          "base_uri": "https://localhost:8080/"
        },
        "id": "BODwhCJ5tnW8",
        "outputId": "1036aaf2-dbb3-4971-f247-11358345c41e"
      },
      "source": [
        "print(net[2].state_dict())#网络第2层的权重的状态"
      ],
      "execution_count": 3,
      "outputs": [
        {
          "output_type": "stream",
          "text": [
            "OrderedDict([('weight', tensor([[ 0.3164, -0.0901,  0.0410, -0.0354,  0.1634,  0.1115,  0.0531,  0.0623]])), ('bias', tensor([-0.1808]))])\n"
          ],
          "name": "stdout"
        }
      ]
    },
    {
      "cell_type": "markdown",
      "metadata": {
        "id": "W3Dy8tRxuQoT"
      },
      "source": [
        "目标参数"
      ]
    },
    {
      "cell_type": "code",
      "metadata": {
        "colab": {
          "base_uri": "https://localhost:8080/"
        },
        "id": "PaabG4aduErp",
        "outputId": "625a2625-b4c2-4bab-ea9c-cc0782f07a7f"
      },
      "source": [
        "print(type(net[2].bias))\n",
        "print(net[2].bias)\n",
        "print(net[2].bias.data)"
      ],
      "execution_count": 4,
      "outputs": [
        {
          "output_type": "stream",
          "text": [
            "<class 'torch.nn.parameter.Parameter'>\n",
            "Parameter containing:\n",
            "tensor([-0.1808], requires_grad=True)\n",
            "tensor([-0.1808])\n"
          ],
          "name": "stdout"
        }
      ]
    },
    {
      "cell_type": "code",
      "metadata": {
        "colab": {
          "base_uri": "https://localhost:8080/"
        },
        "id": "Hax6LFTbuep6",
        "outputId": "cacfd07e-b809-4a70-ffb7-de2f70c93f9c"
      },
      "source": [
        "net[2].weight.grad==None"
      ],
      "execution_count": 5,
      "outputs": [
        {
          "output_type": "execute_result",
          "data": {
            "text/plain": [
              "True"
            ]
          },
          "metadata": {
            "tags": []
          },
          "execution_count": 5
        }
      ]
    },
    {
      "cell_type": "code",
      "metadata": {
        "colab": {
          "base_uri": "https://localhost:8080/"
        },
        "id": "uixsj4mDur6B",
        "outputId": "0da33452-50a6-4d6d-b7a8-1aed33ac8576"
      },
      "source": [
        "net[0].weight.grad==None"
      ],
      "execution_count": 7,
      "outputs": [
        {
          "output_type": "execute_result",
          "data": {
            "text/plain": [
              "True"
            ]
          },
          "metadata": {
            "tags": []
          },
          "execution_count": 7
        }
      ]
    },
    {
      "cell_type": "markdown",
      "metadata": {
        "id": "GVMb04Qwu-41"
      },
      "source": [
        "一次性访问所有参数"
      ]
    },
    {
      "cell_type": "code",
      "metadata": {
        "colab": {
          "base_uri": "https://localhost:8080/"
        },
        "id": "v7fvPaLQuw1t",
        "outputId": "ffe524c2-c54f-4ce0-e0fa-c9355d5fc762"
      },
      "source": [
        "print(*[(name,param.shape) for name,param in net[0].named_parameters()])\n",
        "print(*[(name,param.shape) for name,param in net.named_parameters()])"
      ],
      "execution_count": 8,
      "outputs": [
        {
          "output_type": "stream",
          "text": [
            "('weight', torch.Size([8, 4])) ('bias', torch.Size([8]))\n",
            "('0.weight', torch.Size([8, 4])) ('0.bias', torch.Size([8])) ('2.weight', torch.Size([1, 8])) ('2.bias', torch.Size([1]))\n"
          ],
          "name": "stdout"
        }
      ]
    },
    {
      "cell_type": "code",
      "metadata": {
        "colab": {
          "base_uri": "https://localhost:8080/"
        },
        "id": "cb3PaFk2vQCQ",
        "outputId": "5f210230-9348-4fea-e25f-d6892b79858f"
      },
      "source": [
        "net.state_dict()['2.bias'].data"
      ],
      "execution_count": 9,
      "outputs": [
        {
          "output_type": "execute_result",
          "data": {
            "text/plain": [
              "tensor([-0.1808])"
            ]
          },
          "metadata": {
            "tags": []
          },
          "execution_count": 9
        }
      ]
    },
    {
      "cell_type": "markdown",
      "metadata": {
        "id": "EKsI34Y2vv9n"
      },
      "source": [
        "从嵌套块收集参数"
      ]
    },
    {
      "cell_type": "code",
      "metadata": {
        "colab": {
          "base_uri": "https://localhost:8080/"
        },
        "id": "_XQu7aPWvldp",
        "outputId": "2a21a32e-070f-4a96-e98f-347106ac5b6e"
      },
      "source": [
        "def block1():\n",
        "  return nn.Sequential(nn.Linear(4,8),nn.ReLU(),nn.Linear(8,4),nn.ReLU())\n",
        "\n",
        "def block2():\n",
        "  net=nn.Sequential()\n",
        "  for i in range(4):\n",
        "    net.add_module(f'block{i}',block1())\n",
        "  return net\n",
        "\n",
        "rgnet=nn.Sequential(block2(),nn.Linear(4,1))\n",
        "rgnet(X)"
      ],
      "execution_count": 11,
      "outputs": [
        {
          "output_type": "execute_result",
          "data": {
            "text/plain": [
              "tensor([[-0.2144],\n",
              "        [-0.2143]], grad_fn=<AddmmBackward>)"
            ]
          },
          "metadata": {
            "tags": []
          },
          "execution_count": 11
        }
      ]
    },
    {
      "cell_type": "markdown",
      "metadata": {
        "id": "OGDXEnyYw-6n"
      },
      "source": [
        "我们已经设计了网络，让我们看看它是如何组织的"
      ]
    },
    {
      "cell_type": "code",
      "metadata": {
        "colab": {
          "base_uri": "https://localhost:8080/"
        },
        "id": "33iZ1bzawBdO",
        "outputId": "8a5ee6a2-2269-4a84-85ef-17d0fdf20bb3"
      },
      "source": [
        "print(rgnet)"
      ],
      "execution_count": 13,
      "outputs": [
        {
          "output_type": "stream",
          "text": [
            "Sequential(\n",
            "  (0): Sequential(\n",
            "    (block0): Sequential(\n",
            "      (0): Linear(in_features=4, out_features=8, bias=True)\n",
            "      (1): ReLU()\n",
            "      (2): Linear(in_features=8, out_features=4, bias=True)\n",
            "      (3): ReLU()\n",
            "    )\n",
            "    (block1): Sequential(\n",
            "      (0): Linear(in_features=4, out_features=8, bias=True)\n",
            "      (1): ReLU()\n",
            "      (2): Linear(in_features=8, out_features=4, bias=True)\n",
            "      (3): ReLU()\n",
            "    )\n",
            "    (block2): Sequential(\n",
            "      (0): Linear(in_features=4, out_features=8, bias=True)\n",
            "      (1): ReLU()\n",
            "      (2): Linear(in_features=8, out_features=4, bias=True)\n",
            "      (3): ReLU()\n",
            "    )\n",
            "    (block3): Sequential(\n",
            "      (0): Linear(in_features=4, out_features=8, bias=True)\n",
            "      (1): ReLU()\n",
            "      (2): Linear(in_features=8, out_features=4, bias=True)\n",
            "      (3): ReLU()\n",
            "    )\n",
            "  )\n",
            "  (1): Linear(in_features=4, out_features=1, bias=True)\n",
            ")\n"
          ],
          "name": "stdout"
        }
      ]
    },
    {
      "cell_type": "markdown",
      "metadata": {
        "id": "RfroCIUrxeDA"
      },
      "source": [
        "内置初始化"
      ]
    },
    {
      "cell_type": "code",
      "metadata": {
        "colab": {
          "base_uri": "https://localhost:8080/"
        },
        "id": "3Pe53zEWxF0l",
        "outputId": "902a6fef-7a59-4a22-9ba8-17bcc7215b6b"
      },
      "source": [
        "def init_normal(m):\n",
        "  if type(m)==nn.Linear:\n",
        "    nn.init.normal_(m.weight,mean=0,std=0.01)\n",
        "    nn.init.zeros_(m.bias)\n",
        "\n",
        "net.apply(init_normal)\n",
        "net[0].weight.data[0],net[0].bias.data"
      ],
      "execution_count": 15,
      "outputs": [
        {
          "output_type": "execute_result",
          "data": {
            "text/plain": [
              "(tensor([-0.0147,  0.0278, -0.0063,  0.0225]),\n",
              " tensor([0., 0., 0., 0., 0., 0., 0., 0.]))"
            ]
          },
          "metadata": {
            "tags": []
          },
          "execution_count": 15
        }
      ]
    },
    {
      "cell_type": "code",
      "metadata": {
        "colab": {
          "base_uri": "https://localhost:8080/"
        },
        "id": "IRZbdwpDyAPV",
        "outputId": "3ef52dd0-e654-49f0-8d29-65d01493b8b3"
      },
      "source": [
        "def init_constant(m):#m就是一个module\n",
        "  if type(m)==nn.Linear:\n",
        "    nn.init.constant_(m.weight,1)\n",
        "    nn.init.zeros_(m.bias)\n",
        "\n",
        "net.apply(init_constant)\n",
        "net[0].weight.data[0],net[0].bias.data"
      ],
      "execution_count": 16,
      "outputs": [
        {
          "output_type": "execute_result",
          "data": {
            "text/plain": [
              "(tensor([1., 1., 1., 1.]), tensor([0., 0., 0., 0., 0., 0., 0., 0.]))"
            ]
          },
          "metadata": {
            "tags": []
          },
          "execution_count": 16
        }
      ]
    },
    {
      "cell_type": "markdown",
      "metadata": {
        "id": "5vagvgf9zM0l"
      },
      "source": [
        "对某些块应用不同的初始化方法"
      ]
    },
    {
      "cell_type": "code",
      "metadata": {
        "colab": {
          "base_uri": "https://localhost:8080/"
        },
        "id": "pSZ46Lofyb3D",
        "outputId": "31d9a0df-b213-433c-dbbf-8c8585d07c9c"
      },
      "source": [
        "def xavier(m):\n",
        "  if type(m)==nn.Linear:\n",
        "    nn.init.xavier_uniform_(m.weight)\n",
        "\n",
        "def init_42(m):\n",
        "  if type(m)==nn.Linear:\n",
        "    nn.init.constant_(m.weight,42)\n",
        "\n",
        "net[0].apply(xavier)\n",
        "net[2].apply(init_42)\n",
        "print(net[0].weight.data[0])\n",
        "print(net[2].weight.data)"
      ],
      "execution_count": 17,
      "outputs": [
        {
          "output_type": "stream",
          "text": [
            "tensor([-0.3984,  0.3230,  0.3497, -0.5205])\n",
            "tensor([[42., 42., 42., 42., 42., 42., 42., 42.]])\n"
          ],
          "name": "stdout"
        }
      ]
    },
    {
      "cell_type": "markdown",
      "metadata": {
        "id": "AULM6AHC192t"
      },
      "source": [
        "自定义初始化"
      ]
    },
    {
      "cell_type": "code",
      "metadata": {
        "colab": {
          "base_uri": "https://localhost:8080/"
        },
        "id": "jp8M_vsHz4s6",
        "outputId": "29818e2e-9dce-4914-966e-4c99af02b96c"
      },
      "source": [
        "def my_init(m):\n",
        "  if type(m)==nn.Linear:\n",
        "    print(\n",
        "        \"Init\",\n",
        "        *[(name,param.shape) for name ,param in m.named_parameters()][0])\n",
        "    nn.init.uniform_(m.weight,-10,10)\n",
        "    m.weight.data*=m.weight.data.abs()>=5 #保留计算后大于5的数，否则为0\n",
        "\n",
        "net.apply(my_init)\n",
        "net[0].weight[:2]"
      ],
      "execution_count": 19,
      "outputs": [
        {
          "output_type": "stream",
          "text": [
            "Init weight torch.Size([8, 4])\n",
            "Init weight torch.Size([1, 8])\n"
          ],
          "name": "stdout"
        },
        {
          "output_type": "execute_result",
          "data": {
            "text/plain": [
              "tensor([[ 9.4433, -6.3696, -6.0950,  0.0000],\n",
              "        [ 0.0000, -7.6996,  0.0000,  9.7001]], grad_fn=<SliceBackward>)"
            ]
          },
          "metadata": {
            "tags": []
          },
          "execution_count": 19
        }
      ]
    },
    {
      "cell_type": "code",
      "metadata": {
        "colab": {
          "base_uri": "https://localhost:8080/"
        },
        "id": "GhUYzPlm4nOE",
        "outputId": "d26e3240-d942-4f0f-e719-7aca42726e37"
      },
      "source": [
        "net[0].weight.data[:]+=1\n",
        "net[0].weight.data[0,0]=42\n",
        "net[0].weight.data[0]"
      ],
      "execution_count": 20,
      "outputs": [
        {
          "output_type": "execute_result",
          "data": {
            "text/plain": [
              "tensor([42.0000, -5.3696, -5.0950,  1.0000])"
            ]
          },
          "metadata": {
            "tags": []
          },
          "execution_count": 20
        }
      ]
    },
    {
      "cell_type": "markdown",
      "metadata": {
        "id": "LGFgn3MU48Nm"
      },
      "source": [
        "参数绑定"
      ]
    },
    {
      "cell_type": "code",
      "metadata": {
        "colab": {
          "base_uri": "https://localhost:8080/"
        },
        "id": "QUOzp_iC4zJ9",
        "outputId": "baeb640c-b52b-47c0-b85b-bacf40abb705"
      },
      "source": [
        "shared=nn.Linear(8,8)#这个层的参数都相同\n",
        "net=nn.Sequential(nn.Linear(4,8),nn.ReLU(),shared,nn.ReLU(),shared,nn.ReLU(),nn.Linear(8,1))\n",
        "net(X)\n",
        "print(net[2].weight.data[0]==net[4].weight.data[0])\n",
        "net[2].weight.data[0,0]=100\n",
        "print(net[2].weight.data[0]==net[4].weight.data[0])"
      ],
      "execution_count": 21,
      "outputs": [
        {
          "output_type": "stream",
          "text": [
            "tensor([True, True, True, True, True, True, True, True])\n",
            "tensor([True, True, True, True, True, True, True, True])\n"
          ],
          "name": "stdout"
        }
      ]
    }
  ]
}