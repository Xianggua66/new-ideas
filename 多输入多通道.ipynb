{
  "nbformat": 4,
  "nbformat_minor": 0,
  "metadata": {
    "colab": {
      "name": "多输入多通道.ipynb",
      "provenance": []
    },
    "kernelspec": {
      "name": "python3",
      "display_name": "Python 3"
    },
    "language_info": {
      "name": "python"
    }
  },
  "cells": [
    {
      "cell_type": "markdown",
      "metadata": {
        "id": "y2KQm5Zgggnl"
      },
      "source": [
        "实现一下多输入通道互相关运算"
      ]
    },
    {
      "cell_type": "code",
      "metadata": {
        "id": "nPpHWXvcgozb"
      },
      "source": [
        "!pip install d2l==0.14"
      ],
      "execution_count": null,
      "outputs": []
    },
    {
      "cell_type": "code",
      "metadata": {
        "id": "T7KW6a3BgbX1"
      },
      "source": [
        "import torch\n",
        "from d2l import torch as d2l\n",
        "\n",
        "def corr2d_multi_in(X,K):\n",
        "  return sum(d2l.corr2d(x,k) for x,k in zip(X,K))"
      ],
      "execution_count": 2,
      "outputs": []
    },
    {
      "cell_type": "markdown",
      "metadata": {
        "id": "UhAdpf94hCKU"
      },
      "source": [
        "验证互相关运算的输出"
      ]
    },
    {
      "cell_type": "code",
      "metadata": {
        "colab": {
          "base_uri": "https://localhost:8080/"
        },
        "id": "ctH5KeNlhAMQ",
        "outputId": "cad402a7-80cf-4bf4-868d-6b97a927e059"
      },
      "source": [
        "X=torch.tensor([[[0.0,1.0,2.0],[3.0,4.0,5.0],[6.0,7.0,8.0]],\n",
        "                [[1.0,2.0,3.0],[4.0,5.0,6.0],[7.0,8.0,9.0]]])\n",
        "K=torch.tensor([[[0.0,1.0],[2.0,3.0]],[[1.0,2.0],[3.0,4.0]]])\n",
        "\n",
        "corr2d_multi_in(X,K)"
      ],
      "execution_count": 9,
      "outputs": [
        {
          "output_type": "execute_result",
          "data": {
            "text/plain": [
              "tensor([[ 56.,  72.],\n",
              "        [104., 120.]])"
            ]
          },
          "metadata": {
            "tags": []
          },
          "execution_count": 9
        }
      ]
    },
    {
      "cell_type": "markdown",
      "metadata": {
        "id": "w5kUOa2tlOLg"
      },
      "source": [
        "计算多个通道的输出的互相关函数"
      ]
    },
    {
      "cell_type": "code",
      "metadata": {
        "colab": {
          "base_uri": "https://localhost:8080/"
        },
        "id": "n0I-NzkthsZq",
        "outputId": "d2cddb86-c3f6-4b00-cd5f-572406314854"
      },
      "source": [
        "def corr2d_multi_in_out(X,K):\n",
        "  return torch.stack([corr2d_multi_in(X,k) for k in K],0)#在0维度叠加\n",
        "\n",
        "K=torch.stack((K,K+1,K+2),0)\n",
        "K.shape"
      ],
      "execution_count": 10,
      "outputs": [
        {
          "output_type": "execute_result",
          "data": {
            "text/plain": [
              "torch.Size([3, 2, 2, 2])"
            ]
          },
          "metadata": {
            "tags": []
          },
          "execution_count": 10
        }
      ]
    },
    {
      "cell_type": "code",
      "metadata": {
        "colab": {
          "base_uri": "https://localhost:8080/"
        },
        "id": "lhg-WY0plu06",
        "outputId": "0106a557-f038-4b6f-a3e0-1f665c85fe53"
      },
      "source": [
        "corr2d_multi_in_out(X,K)"
      ],
      "execution_count": 11,
      "outputs": [
        {
          "output_type": "execute_result",
          "data": {
            "text/plain": [
              "tensor([[[ 56.,  72.],\n",
              "         [104., 120.]],\n",
              "\n",
              "        [[ 76., 100.],\n",
              "         [148., 172.]],\n",
              "\n",
              "        [[ 96., 128.],\n",
              "         [192., 224.]]])"
            ]
          },
          "metadata": {
            "tags": []
          },
          "execution_count": 11
        }
      ]
    },
    {
      "cell_type": "markdown",
      "metadata": {
        "id": "kr-krLHanuzF"
      },
      "source": [
        "1*1卷积"
      ]
    },
    {
      "cell_type": "code",
      "metadata": {
        "id": "0eYJ0sLblxWA"
      },
      "source": [
        "def corr2d_multi_in_out_1x1(X,K):\n",
        "  c_i,h,w=X.shape\n",
        "  c_o=K.shape[0]\n",
        "  X=X.reshape((c_i,h*w))\n",
        "  K=K.reshape((c_o,c_i))\n",
        "  Y=torch.matmul(K,X)#通过矩阵相乘进行1*1卷积\n",
        "  return Y.reshape((c_o,h,w))\n",
        "\n",
        "X=torch.normal(0,1,(3,3,3))#前两个是均值和方差\n",
        "K=torch.normal(0,1,(2,3,1,1))\n",
        "\n",
        "Y1=corr2d_multi_in_out_1x1(X,K)\n",
        "Y2=corr2d_multi_in_out(X,K)\n",
        "assert float(torch.abs(Y1-Y2).sum())<1e-6"
      ],
      "execution_count": 12,
      "outputs": []
    },
    {
      "cell_type": "code",
      "metadata": {
        "id": "kOaz_ZpJpa6o"
      },
      "source": [
        ""
      ],
      "execution_count": null,
      "outputs": []
    }
  ]
}