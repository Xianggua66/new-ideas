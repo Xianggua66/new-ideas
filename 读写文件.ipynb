{
  "nbformat": 4,
  "nbformat_minor": 0,
  "metadata": {
    "colab": {
      "name": "读写文件.ipynb",
      "provenance": []
    },
    "kernelspec": {
      "name": "python3",
      "display_name": "Python 3"
    },
    "language_info": {
      "name": "python"
    }
  },
  "cells": [
    {
      "cell_type": "markdown",
      "metadata": {
        "id": "f_rq9v6yzhgM"
      },
      "source": [
        "加载和保存张量"
      ]
    },
    {
      "cell_type": "code",
      "metadata": {
        "colab": {
          "base_uri": "https://localhost:8080/"
        },
        "id": "bS1xHy3lza0Y",
        "outputId": "561bf699-3a83-4889-8d1d-1cd4a5831a11"
      },
      "source": [
        "import torch\n",
        "from torch import nn\n",
        "from torch.nn import functional as F\n",
        "\n",
        "x=torch.arange(4)\n",
        "torch.save(x,'x_file')\n",
        "\n",
        "x2=torch.load('x_file')\n",
        "x2"
      ],
      "execution_count": 1,
      "outputs": [
        {
          "output_type": "execute_result",
          "data": {
            "text/plain": [
              "tensor([0, 1, 2, 3])"
            ]
          },
          "metadata": {
            "tags": []
          },
          "execution_count": 1
        }
      ]
    },
    {
      "cell_type": "markdown",
      "metadata": {
        "id": "AdTfy6mo0PJv"
      },
      "source": [
        "存储一个张量列表，然后把它们读回内存"
      ]
    },
    {
      "cell_type": "code",
      "metadata": {
        "colab": {
          "base_uri": "https://localhost:8080/"
        },
        "id": "OBjOc8frz7Wf",
        "outputId": "160c9e71-7fcc-46db-89a4-820ca2e91725"
      },
      "source": [
        "y=torch.zeros(4)\n",
        "torch.save([x,y],'x-file')\n",
        "x2,y2=torch.load('x-file')\n",
        "(x2,y2)"
      ],
      "execution_count": 2,
      "outputs": [
        {
          "output_type": "execute_result",
          "data": {
            "text/plain": [
              "(tensor([0, 1, 2, 3]), tensor([0., 0., 0., 0.]))"
            ]
          },
          "metadata": {
            "tags": []
          },
          "execution_count": 2
        }
      ]
    },
    {
      "cell_type": "markdown",
      "metadata": {
        "id": "oCv5amee0oEX"
      },
      "source": [
        "写入或读取从字符串映射到张量的字典"
      ]
    },
    {
      "cell_type": "code",
      "metadata": {
        "colab": {
          "base_uri": "https://localhost:8080/"
        },
        "id": "LMjdSNPF0ig_",
        "outputId": "ef197042-2613-4099-f9ce-fc8fa56f968e"
      },
      "source": [
        "mydict={'x':x,'y':y}\n",
        "torch.save(mydict,'mydict')\n",
        "mydict2=torch.load('mydict')\n",
        "mydict2"
      ],
      "execution_count": 3,
      "outputs": [
        {
          "output_type": "execute_result",
          "data": {
            "text/plain": [
              "{'x': tensor([0, 1, 2, 3]), 'y': tensor([0., 0., 0., 0.])}"
            ]
          },
          "metadata": {
            "tags": []
          },
          "execution_count": 3
        }
      ]
    },
    {
      "cell_type": "markdown",
      "metadata": {
        "id": "fORrizhL1BTT"
      },
      "source": [
        "加载和保存模型参数"
      ]
    },
    {
      "cell_type": "code",
      "metadata": {
        "id": "P9F-aFz705Nv"
      },
      "source": [
        "class MLP(nn.Module):\n",
        "  def __init__(self):\n",
        "    super().__init__()\n",
        "    self.hidden=nn.Linear(20,256)\n",
        "    self.output=nn.Linear(256,10)\n",
        "  \n",
        "  def forward(self,X):\n",
        "    return self.output(F.relu(self.hidden(X)))\n",
        "\n",
        "net=MLP()\n",
        "X=torch.randn(size=(2,20))\n",
        "Y=net(X)"
      ],
      "execution_count": 6,
      "outputs": []
    },
    {
      "cell_type": "markdown",
      "metadata": {
        "id": "JIYNS0Jo295h"
      },
      "source": [
        "将模型的参数存储为一个叫做\"mlp.params\"的文件"
      ]
    },
    {
      "cell_type": "code",
      "metadata": {
        "id": "avbVVPyk2zoG"
      },
      "source": [
        "torch.save(net.state_dict(),'mlp.params')"
      ],
      "execution_count": 7,
      "outputs": []
    },
    {
      "cell_type": "markdown",
      "metadata": {
        "id": "FpH7l32f3Snb"
      },
      "source": [
        "实例化了原始多层感知机模型的一个备份。直接读取文件中存储的参数"
      ]
    },
    {
      "cell_type": "code",
      "metadata": {
        "colab": {
          "base_uri": "https://localhost:8080/"
        },
        "id": "BFTik67Y3Lcc",
        "outputId": "59a4b0df-db3d-4c0c-d742-7baad3e85e4c"
      },
      "source": [
        "clone=MLP()\n",
        "clone.load_state_dict(torch.load(\"mlp.params\"))\n",
        "clone.eval()"
      ],
      "execution_count": 8,
      "outputs": [
        {
          "output_type": "execute_result",
          "data": {
            "text/plain": [
              "MLP(\n",
              "  (hidden): Linear(in_features=20, out_features=256, bias=True)\n",
              "  (output): Linear(in_features=256, out_features=10, bias=True)\n",
              ")"
            ]
          },
          "metadata": {
            "tags": []
          },
          "execution_count": 8
        }
      ]
    },
    {
      "cell_type": "code",
      "metadata": {
        "colab": {
          "base_uri": "https://localhost:8080/"
        },
        "id": "e22qT_La4J4z",
        "outputId": "c60b920d-fab1-4226-af15-89d218e1e7a3"
      },
      "source": [
        "Y_clone=clone(X)\n",
        "Y_clone==Y"
      ],
      "execution_count": 9,
      "outputs": [
        {
          "output_type": "execute_result",
          "data": {
            "text/plain": [
              "tensor([[True, True, True, True, True, True, True, True, True, True],\n",
              "        [True, True, True, True, True, True, True, True, True, True]])"
            ]
          },
          "metadata": {
            "tags": []
          },
          "execution_count": 9
        }
      ]
    },
    {
      "cell_type": "code",
      "metadata": {
        "id": "q4ek9eUY4SKB"
      },
      "source": [
        ""
      ],
      "execution_count": null,
      "outputs": []
    }
  ]
}