{
  "nbformat": 4,
  "nbformat_minor": 0,
  "metadata": {
    "colab": {
      "name": "图像卷积.ipynb",
      "provenance": []
    },
    "kernelspec": {
      "name": "python3",
      "display_name": "Python 3"
    },
    "language_info": {
      "name": "python"
    }
  },
  "cells": [
    {
      "cell_type": "markdown",
      "metadata": {
        "id": "rNgpO_JiEmxY"
      },
      "source": [
        "互相关运算"
      ]
    },
    {
      "cell_type": "code",
      "metadata": {
        "id": "9aZ-SqxfE17r"
      },
      "source": [
        "!pip install d2l==0.14"
      ],
      "execution_count": null,
      "outputs": []
    },
    {
      "cell_type": "code",
      "metadata": {
        "id": "qtq-BOUHEjOF"
      },
      "source": [
        "import torch\n",
        "from torch import nn\n",
        "from d2l import torch as d2l\n",
        "\n",
        "def corr2d(X,K):#相当于卷积运算\n",
        "  \"\"\"计算二维互相关运算\"\"\"\n",
        "  h,W=K.shape\n",
        "  Y=torch.zeros((X.shape[0]-h+1,X.shape[1]-W+1))\n",
        "  for i in range(Y.shape[0]):\n",
        "    for j in range(Y.shape[1]):\n",
        "      Y[i,j]=(X[i:i+h,j:j+W]*K).sum()\n",
        "  return Y"
      ],
      "execution_count": 7,
      "outputs": []
    },
    {
      "cell_type": "markdown",
      "metadata": {
        "id": "xxzns5NRGfLE"
      },
      "source": [
        "验证上述二维互相关运算的输出"
      ]
    },
    {
      "cell_type": "code",
      "metadata": {
        "colab": {
          "base_uri": "https://localhost:8080/"
        },
        "id": "YIyxetU_F54z",
        "outputId": "e16f7d4a-a4fe-4c5c-8eb4-510f15031fc2"
      },
      "source": [
        "X=torch.tensor([[0.0,1.0,2.0],[3.0,4.0,5.0],[6.0,7.0,8.0]])\n",
        "K=torch.tensor([[0.0,1.0],[2.0,3.0]])\n",
        "corr2d(X,K)"
      ],
      "execution_count": 8,
      "outputs": [
        {
          "output_type": "execute_result",
          "data": {
            "text/plain": [
              "tensor([[19., 25.],\n",
              "        [37., 43.]])"
            ]
          },
          "metadata": {
            "tags": []
          },
          "execution_count": 8
        }
      ]
    },
    {
      "cell_type": "markdown",
      "metadata": {
        "id": "U7xbiJcHHK0Y"
      },
      "source": [
        "实现二维卷积"
      ]
    },
    {
      "cell_type": "code",
      "metadata": {
        "id": "hTLcr74nG58a"
      },
      "source": [
        "class Conv2D(nn.Module):\n",
        "  def __init__(self,kernel_size):\n",
        "    super().__init__()\n",
        "    self.weight=nn.Parameter(torch.rand(kernel_size))\n",
        "    self.bias=nn.Parameter(torch.zeros(1))\n",
        "  \n",
        "  def forword(self,X):\n",
        "    return corr2d(X,self.weight)+self.bias\n"
      ],
      "execution_count": 12,
      "outputs": []
    },
    {
      "cell_type": "markdown",
      "metadata": {
        "id": "NOeGSo9BIaW0"
      },
      "source": [
        "卷积层的一个简单应用：检测图像中不同颜色的边缘"
      ]
    },
    {
      "cell_type": "code",
      "metadata": {
        "colab": {
          "base_uri": "https://localhost:8080/"
        },
        "id": "QljMjgnNITF8",
        "outputId": "fca7c7af-2708-4632-f93c-052f911a9d80"
      },
      "source": [
        "X=torch.ones((6,8))\n",
        "X[:,2:6]=0\n",
        "X"
      ],
      "execution_count": 14,
      "outputs": [
        {
          "output_type": "execute_result",
          "data": {
            "text/plain": [
              "tensor([[1., 1., 0., 0., 0., 0., 1., 1.],\n",
              "        [1., 1., 0., 0., 0., 0., 1., 1.],\n",
              "        [1., 1., 0., 0., 0., 0., 1., 1.],\n",
              "        [1., 1., 0., 0., 0., 0., 1., 1.],\n",
              "        [1., 1., 0., 0., 0., 0., 1., 1.],\n",
              "        [1., 1., 0., 0., 0., 0., 1., 1.]])"
            ]
          },
          "metadata": {
            "tags": []
          },
          "execution_count": 14
        }
      ]
    },
    {
      "cell_type": "code",
      "metadata": {
        "id": "yfMdqNDuIx8a"
      },
      "source": [
        "K=torch.tensor([[1.0,-1.0]])"
      ],
      "execution_count": 18,
      "outputs": []
    },
    {
      "cell_type": "markdown",
      "metadata": {
        "id": "ESYkoCVGJFm8"
      },
      "source": [
        "输出Y中的1代表从白色到黑色的边缘，-1代表从黑色到白色的边缘"
      ]
    },
    {
      "cell_type": "code",
      "metadata": {
        "colab": {
          "base_uri": "https://localhost:8080/"
        },
        "id": "Re3QwOjMJFFJ",
        "outputId": "9468c1b2-6ee7-4fc1-9737-83e68336a04b"
      },
      "source": [
        "Y=corr2d(X,K)\n",
        "Y"
      ],
      "execution_count": 19,
      "outputs": [
        {
          "output_type": "execute_result",
          "data": {
            "text/plain": [
              "tensor([[ 0.,  1.,  0.,  0.,  0., -1.,  0.],\n",
              "        [ 0.,  1.,  0.,  0.,  0., -1.,  0.],\n",
              "        [ 0.,  1.,  0.,  0.,  0., -1.,  0.],\n",
              "        [ 0.,  1.,  0.,  0.,  0., -1.,  0.],\n",
              "        [ 0.,  1.,  0.,  0.,  0., -1.,  0.],\n",
              "        [ 0.,  1.,  0.,  0.,  0., -1.,  0.]])"
            ]
          },
          "metadata": {
            "tags": []
          },
          "execution_count": 19
        }
      ]
    },
    {
      "cell_type": "markdown",
      "metadata": {
        "id": "ME2pGz_PJuqI"
      },
      "source": [
        "卷积核K只可以检测垂直边缘"
      ]
    },
    {
      "cell_type": "code",
      "metadata": {
        "colab": {
          "base_uri": "https://localhost:8080/"
        },
        "id": "FcqabVOBJRIp",
        "outputId": "fe5f3c7a-ad67-4fc7-f931-fa65e205aa58"
      },
      "source": [
        "corr2d(X.t(),K)"
      ],
      "execution_count": 20,
      "outputs": [
        {
          "output_type": "execute_result",
          "data": {
            "text/plain": [
              "tensor([[0., 0., 0., 0., 0.],\n",
              "        [0., 0., 0., 0., 0.],\n",
              "        [0., 0., 0., 0., 0.],\n",
              "        [0., 0., 0., 0., 0.],\n",
              "        [0., 0., 0., 0., 0.],\n",
              "        [0., 0., 0., 0., 0.],\n",
              "        [0., 0., 0., 0., 0.],\n",
              "        [0., 0., 0., 0., 0.]])"
            ]
          },
          "metadata": {
            "tags": []
          },
          "execution_count": 20
        }
      ]
    },
    {
      "cell_type": "markdown",
      "metadata": {
        "id": "9K_FM1BWJ57l"
      },
      "source": [
        "学习由X生成Y的卷积核"
      ]
    },
    {
      "cell_type": "code",
      "metadata": {
        "colab": {
          "base_uri": "https://localhost:8080/"
        },
        "id": "vgwv-CuRJ0x6",
        "outputId": "59a5212a-49a4-47c0-d4de-5e4c06e6cc57"
      },
      "source": [
        "conv2d=nn.Conv2d(1,1,kernel_size=(1,2),bias=False)\n",
        "\n",
        "X=X.reshape((1,1,6,8))\n",
        "Y=Y.reshape((1,1,6,7))\n",
        "\n",
        "for i in range(10):\n",
        "  Y_hat=conv2d(X)\n",
        "  l=(Y_hat-Y)**2\n",
        "  conv2d.zero_grad()\n",
        "  l.sum().backward()\n",
        "  conv2d.weight.data[:]-=3e-2*conv2d.weight.grad\n",
        "  if (i+1)%2==0:\n",
        "    print(f'batch {i+1},loss {l.sum():.3f}')"
      ],
      "execution_count": 21,
      "outputs": [
        {
          "output_type": "stream",
          "text": [
            "batch 2,loss 11.168\n",
            "batch 4,loss 3.448\n",
            "batch 6,loss 1.223\n",
            "batch 8,loss 0.469\n",
            "batch 10,loss 0.187\n"
          ],
          "name": "stdout"
        }
      ]
    },
    {
      "cell_type": "markdown",
      "metadata": {
        "id": "sTUqBNX2LY7-"
      },
      "source": [
        "所学的卷积核的权重张量"
      ]
    },
    {
      "cell_type": "code",
      "metadata": {
        "colab": {
          "base_uri": "https://localhost:8080/"
        },
        "id": "8HyeL7eRLcIa",
        "outputId": "22f0ef96-5863-46f5-8d25-0e91ff927f69"
      },
      "source": [
        "conv2d.weight.data.reshape((1,2))"
      ],
      "execution_count": 22,
      "outputs": [
        {
          "output_type": "execute_result",
          "data": {
            "text/plain": [
              "tensor([[ 0.9446, -1.0330]])"
            ]
          },
          "metadata": {
            "tags": []
          },
          "execution_count": 22
        }
      ]
    },
    {
      "cell_type": "code",
      "metadata": {
        "id": "_NlAox-WLfoq"
      },
      "source": [
        ""
      ],
      "execution_count": null,
      "outputs": []
    }
  ]
}