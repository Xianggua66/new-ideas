{
  "nbformat": 4,
  "nbformat_minor": 0,
  "metadata": {
    "colab": {
      "name": "转置卷积.ipynb",
      "provenance": []
    },
    "kernelspec": {
      "name": "python3",
      "display_name": "Python 3"
    },
    "language_info": {
      "name": "python"
    }
  },
  "cells": [
    {
      "cell_type": "code",
      "metadata": {
        "id": "9axXA6tylmJm"
      },
      "source": [
        "!pip install d2l==0.16"
      ],
      "execution_count": null,
      "outputs": []
    },
    {
      "cell_type": "code",
      "metadata": {
        "id": "-z59cX1xluK8"
      },
      "source": [
        "import torch\n",
        "from torch import nn\n",
        "from d2l import torch as d2l"
      ],
      "execution_count": 2,
      "outputs": []
    },
    {
      "cell_type": "markdown",
      "metadata": {
        "id": "LtH7a5GPmh4b"
      },
      "source": [
        "实现基本的转置卷积运算"
      ]
    },
    {
      "cell_type": "code",
      "metadata": {
        "id": "-5QH-aK7l1hi"
      },
      "source": [
        "def trans_conv(X,K):\n",
        "  h,w=K.shape\n",
        "  Y=torch.zeros((X.shape[0]+h-1,X.shape[1]+h-1))\n",
        "  for i in range(X.shape[0]):\n",
        "    for j in range(X.shape[1]):\n",
        "      Y[i:i+h,j:j+w]+=X[i,j]*K\n",
        "  return Y"
      ],
      "execution_count": 7,
      "outputs": []
    },
    {
      "cell_type": "code",
      "metadata": {
        "colab": {
          "base_uri": "https://localhost:8080/"
        },
        "id": "dPGb-lMtmhOp",
        "outputId": "c036ab06-8da7-47ac-9397-9df7f7e62c12"
      },
      "source": [
        "X = torch.tensor([[0.0, 1.0], [2.0, 3.0]])\n",
        "K = torch.tensor([[0.0, 1.0], [2.0, 3.0]])\n",
        "trans_conv(X, K)"
      ],
      "execution_count": 8,
      "outputs": [
        {
          "output_type": "execute_result",
          "data": {
            "text/plain": [
              "tensor([[ 0.,  0.,  1.],\n",
              "        [ 0.,  4.,  6.],\n",
              "        [ 4., 12.,  9.]])"
            ]
          },
          "metadata": {},
          "execution_count": 8
        }
      ]
    },
    {
      "cell_type": "markdown",
      "metadata": {
        "id": "PnwpN1JinPNB"
      },
      "source": [
        "使用高级API获得相同的结果"
      ]
    },
    {
      "cell_type": "code",
      "metadata": {
        "colab": {
          "base_uri": "https://localhost:8080/"
        },
        "id": "ILlr_7O0nBjy",
        "outputId": "fa120a54-6163-4863-e15c-c8d88b3c3589"
      },
      "source": [
        "X,K=X.reshape(1,1,2,2),K.reshape(1,1,2,2)\n",
        "tconv=nn.ConvTranspose2d(1,1,kernel_size=2,bias=False)\n",
        "tconv.weight.data=K\n",
        "tconv(X)"
      ],
      "execution_count": 10,
      "outputs": [
        {
          "output_type": "execute_result",
          "data": {
            "text/plain": [
              "tensor([[[[ 0.,  0.,  1.],\n",
              "          [ 0.,  4.,  6.],\n",
              "          [ 4., 12.,  9.]]]], grad_fn=<SlowConvTranspose2DBackward>)"
            ]
          },
          "metadata": {},
          "execution_count": 10
        }
      ]
    },
    {
      "cell_type": "markdown",
      "metadata": {
        "id": "bad8psMwofi_"
      },
      "source": [
        "与常规卷积不同，在转置卷积中，填充被应用于的输出（常规卷积将填充应用于输入）。 例如，当将高和宽两侧的填充数指定为1时，转置卷积的输出中将删除第一和最后的行与列。"
      ]
    },
    {
      "cell_type": "code",
      "metadata": {
        "colab": {
          "base_uri": "https://localhost:8080/"
        },
        "id": "HVhDbz57nqsp",
        "outputId": "a71467e6-56bd-4c00-d5e4-a319ee18b5f0"
      },
      "source": [
        "tconv = nn.ConvTranspose2d(1, 1, kernel_size=2, padding=1, bias=False)\n",
        "tconv.weight.data = K\n",
        "tconv(X)"
      ],
      "execution_count": 11,
      "outputs": [
        {
          "output_type": "execute_result",
          "data": {
            "text/plain": [
              "tensor([[[[4.]]]], grad_fn=<SlowConvTranspose2DBackward>)"
            ]
          },
          "metadata": {},
          "execution_count": 11
        }
      ]
    },
    {
      "cell_type": "markdown",
      "metadata": {
        "id": "uQmA7HbBpEcl"
      },
      "source": [
        "在转置卷积中，步幅被指定为中间结果（输出），而不是输入。 使用 图13.10.1 中相同输入和卷积核张量，将步幅从1更改为2会增加中间张量的高和权重"
      ]
    },
    {
      "cell_type": "code",
      "metadata": {
        "colab": {
          "base_uri": "https://localhost:8080/"
        },
        "id": "3sh-YBrJoh6o",
        "outputId": "0a0d31d8-3d29-4044-f147-23ef166582ff"
      },
      "source": [
        "tconv = nn.ConvTranspose2d(1, 1, kernel_size=2, stride=2, bias=False)\n",
        "tconv.weight.data = K\n",
        "tconv(X)"
      ],
      "execution_count": 12,
      "outputs": [
        {
          "output_type": "execute_result",
          "data": {
            "text/plain": [
              "tensor([[[[0., 0., 0., 1.],\n",
              "          [0., 0., 2., 3.],\n",
              "          [0., 2., 0., 3.],\n",
              "          [4., 6., 6., 9.]]]], grad_fn=<SlowConvTranspose2DBackward>)"
            ]
          },
          "metadata": {},
          "execution_count": 12
        }
      ]
    },
    {
      "cell_type": "markdown",
      "metadata": {
        "id": "jKMIEBOUpU8P"
      },
      "source": [
        "多通道"
      ]
    },
    {
      "cell_type": "code",
      "metadata": {
        "colab": {
          "base_uri": "https://localhost:8080/"
        },
        "id": "EVeQFIX_pHFR",
        "outputId": "4b55d135-16cc-49bc-97e5-1504eee4d4c2"
      },
      "source": [
        "X=torch.rand(size=(1,10,16,16))\n",
        "conv=nn.Conv2d(10,20,kernel_size=5,padding=2,stride=3)\n",
        "tconv=nn.ConvTranspose2d(20,10,kernel_size=5,padding=2,stride=3)\n",
        "tconv(conv(X)).shape==X.shape"
      ],
      "execution_count": 13,
      "outputs": [
        {
          "output_type": "execute_result",
          "data": {
            "text/plain": [
              "True"
            ]
          },
          "metadata": {},
          "execution_count": 13
        }
      ]
    },
    {
      "cell_type": "markdown",
      "metadata": {
        "id": "cbRxpRMpqHAF"
      },
      "source": [
        "与矩阵变换的联系"
      ]
    },
    {
      "cell_type": "code",
      "metadata": {
        "colab": {
          "base_uri": "https://localhost:8080/"
        },
        "id": "VAs1tsCTpyga",
        "outputId": "7b807347-2098-45f6-9320-877817524afd"
      },
      "source": [
        "X=torch.arange(9.0).reshape(3,3)\n",
        "K=torch.tensor([[1.0,2.0],[3.0,4.0]])\n",
        "Y=d2l.corr2d(X,K)\n",
        "Y"
      ],
      "execution_count": 14,
      "outputs": [
        {
          "output_type": "execute_result",
          "data": {
            "text/plain": [
              "tensor([[27., 37.],\n",
              "        [57., 67.]])"
            ]
          },
          "metadata": {},
          "execution_count": 14
        }
      ]
    },
    {
      "cell_type": "markdown",
      "metadata": {
        "id": "3HQg_Z5Rq1_V"
      },
      "source": [
        "接下来，我们将卷积核K重写为包含大量0的稀疏权重矩阵W。 权重矩阵的形状是（ 4 ， 9 ），其中非0元素来自卷积核K。"
      ]
    },
    {
      "cell_type": "code",
      "metadata": {
        "colab": {
          "base_uri": "https://localhost:8080/"
        },
        "id": "WUyFXdueqXQg",
        "outputId": "f32b280a-a9a5-4bc1-a4a5-65d4ee4017b2"
      },
      "source": [
        "def kernel2matrix(K):\n",
        "  k,W=torch.zeros(5),torch.zeros((4,9))\n",
        "  k[:2],k[3:5]=K[0,:],K[1,:]\n",
        "  W[0,:5],W[1,1:6],W[2,3:8],W[3,4:]=k,k,k,k\n",
        "  return W\n",
        "\n",
        "W=kernel2matrix(K)\n",
        "W"
      ],
      "execution_count": 16,
      "outputs": [
        {
          "output_type": "execute_result",
          "data": {
            "text/plain": [
              "tensor([[1., 2., 0., 3., 4., 0., 0., 0., 0.],\n",
              "        [0., 1., 2., 0., 3., 4., 0., 0., 0.],\n",
              "        [0., 0., 0., 1., 2., 0., 3., 4., 0.],\n",
              "        [0., 0., 0., 0., 1., 2., 0., 3., 4.]])"
            ]
          },
          "metadata": {},
          "execution_count": 16
        }
      ]
    },
    {
      "cell_type": "code",
      "metadata": {
        "colab": {
          "base_uri": "https://localhost:8080/"
        },
        "id": "YOzvXmWRtCQw",
        "outputId": "7046a493-525f-4fab-f121-3cc1206d5a0d"
      },
      "source": [
        "Y==torch.matmul(W,X.reshape(-1)).reshape(2,2)"
      ],
      "execution_count": 17,
      "outputs": [
        {
          "output_type": "execute_result",
          "data": {
            "text/plain": [
              "tensor([[True, True],\n",
              "        [True, True]])"
            ]
          },
          "metadata": {},
          "execution_count": 17
        }
      ]
    },
    {
      "cell_type": "code",
      "metadata": {
        "colab": {
          "base_uri": "https://localhost:8080/"
        },
        "id": "CN2ETg44t19e",
        "outputId": "55b18666-517a-4a40-dafd-0e513aeba1e2"
      },
      "source": [
        "Z=trans_conv(Y,K)\n",
        "Z==torch.matmul(W.T,Y.reshape(-1)).reshape(3,3)"
      ],
      "execution_count": 18,
      "outputs": [
        {
          "output_type": "execute_result",
          "data": {
            "text/plain": [
              "tensor([[True, True, True],\n",
              "        [True, True, True],\n",
              "        [True, True, True]])"
            ]
          },
          "metadata": {},
          "execution_count": 18
        }
      ]
    },
    {
      "cell_type": "code",
      "metadata": {
        "id": "aUpIEKknuVMv"
      },
      "source": [
        ""
      ],
      "execution_count": null,
      "outputs": []
    }
  ]
}