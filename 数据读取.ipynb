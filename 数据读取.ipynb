{
  "nbformat": 4,
  "nbformat_minor": 0,
  "metadata": {
    "colab": {
      "name": "数据读取.ipynb",
      "provenance": [],
      "collapsed_sections": []
    },
    "kernelspec": {
      "display_name": "Python 3",
      "name": "python3"
    },
    "language_info": {
      "name": "python"
    }
  },
  "cells": [
    {
      "cell_type": "markdown",
      "metadata": {
        "id": "k1hYd4hwVNjs"
      },
      "source": [
        "MNIST数据集是图像分类中广泛使用的数据集之一，但作为基准数据集过于简单。我们将使用类似但更复杂的Fashion-MNIST数据集。"
      ]
    },
    {
      "cell_type": "code",
      "metadata": {
        "id": "uGUzjp46UHJb"
      },
      "source": [
        "%matplotlib inline\n",
        "import torch\n",
        "import torchvision\n",
        "from torch.utils import data\n",
        "from torchvision import transforms"
      ],
      "execution_count": 2,
      "outputs": []
    },
    {
      "cell_type": "code",
      "metadata": {
        "id": "jhKYxyIqmvR6"
      },
      "source": [
        "!pip install d2l==0.14\n",
        "from d2l import torch as d2l"
      ],
      "execution_count": null,
      "outputs": []
    },
    {
      "cell_type": "code",
      "metadata": {
        "id": "p5b2NeLGlq9l"
      },
      "source": [
        "d2l.use_svg_display()"
      ],
      "execution_count": 5,
      "outputs": []
    },
    {
      "cell_type": "markdown",
      "metadata": {
        "id": "7IBfIkRXWyfU"
      },
      "source": [
        "通过框架中的内置函数将Fashion-mnist数据集下载并读取到内存中"
      ]
    },
    {
      "cell_type": "code",
      "metadata": {
        "id": "Q2gG8EqkWON0"
      },
      "source": [
        "trans=transforms.ToTensor()\n",
        "mnist_train=torchvision.datasets.FashionMNIST(root=\"../data\",train=True,transform=trans,download=True)\n",
        "mnist_test=torchvision.datasets.FashionMNIST(root=\"../data\",train=False,transform=trans,download=True)\n",
        "\n",
        "len(mnist_train),len(mnist_test)"
      ],
      "execution_count": null,
      "outputs": []
    },
    {
      "cell_type": "code",
      "metadata": {
        "id": "-RBwMN0dXgAq"
      },
      "source": [
        "mnist_train[0][0].shape"
      ],
      "execution_count": null,
      "outputs": []
    },
    {
      "cell_type": "markdown",
      "metadata": {
        "id": "LHaVwS9YZcX2"
      },
      "source": [
        "Fashion-MNIST中包含的10个类别分别为t-shirt（T恤）、trouser（裤子）、pullover（套衫）、dress（连衣裙）、coat（外套）、sandal（凉鞋）、shirt（衬衫）、sneaker（运动鞋）、bag（包）和ankle boot（短靴）。以下函数用于在数字标签索引及其文本名称之间进行转换。"
      ]
    },
    {
      "cell_type": "code",
      "metadata": {
        "id": "AHb2wl8bX3gy"
      },
      "source": [
        "def get_fashion_mnist_labels(labels):\n",
        "  \"\"\"返回Fashion-MNIST数据集的文本标签。\"\"\"\n",
        "  text_labels = [\n",
        "        't-shirt', 'trouser', 'pullover', 'dress', 'coat', 'sandal', 'shirt',\n",
        "        'sneaker', 'bag', 'ankle boot']\n",
        "  return [text_labels[int(i)] for i in labels]"
      ],
      "execution_count": 7,
      "outputs": []
    },
    {
      "cell_type": "markdown",
      "metadata": {
        "id": "Q-jIzpCsaQdK"
      },
      "source": [
        "创建函数可视化样本"
      ]
    },
    {
      "cell_type": "code",
      "metadata": {
        "id": "6tR37usEZmlG"
      },
      "source": [
        "def show_images(imgs, num_rows, num_cols, titles=None, scale=1.5): \n",
        "    \"\"\"Plot a list of images.\"\"\"\n",
        "    figsize = (num_cols * scale, num_rows * scale)\n",
        "    _, axes = d2l.plt.subplots(num_rows, num_cols, figsize=figsize)\n",
        "    axes = axes.flatten()\n",
        "    for i, (ax, img) in enumerate(zip(axes, imgs)):\n",
        "      if torch.is_tensor(img):\n",
        "            # 图片张量\n",
        "        ax.imshow(img.numpy())\n",
        "      else:\n",
        "            # PIL图片\n",
        "        ax.imshow(img)\n",
        "      ax.axes.get_xaxis().set_visible(False)\n",
        "      ax.axes.get_yaxis().set_visible(False)\n",
        "      if titles:\n",
        "        ax.set_title(titles[i])\n",
        "    return axes"
      ],
      "execution_count": 8,
      "outputs": []
    },
    {
      "cell_type": "markdown",
      "metadata": {
        "id": "oVWzf2OybmtJ"
      },
      "source": [
        "几个样本的图像及其相应的标签"
      ]
    },
    {
      "cell_type": "code",
      "metadata": {
        "id": "ohfgnzsmaVNt"
      },
      "source": [
        "X,y=next(iter(data.DataLoader(mnist_train,batch_size=18)))\n",
        "show_images(X.reshape(18,28,28),2,9,titles=get_fashion_mnist_labels(y))"
      ],
      "execution_count": null,
      "outputs": []
    },
    {
      "cell_type": "markdown",
      "metadata": {
        "id": "VjrRhWCUolER"
      },
      "source": [
        "读取一小批量数据，大小为batch_size"
      ]
    },
    {
      "cell_type": "code",
      "metadata": {
        "colab": {
          "base_uri": "https://localhost:8080/",
          "height": 89
        },
        "id": "YtrHG7iloqW7",
        "outputId": "8ac32bf4-b0f1-4fb5-edc6-11b37a6fedd6"
      },
      "source": [
        "batch_size=256\n",
        "\n",
        "def get_dataloader_workers():\n",
        "  \"\"\"使用4个进程来读取数据\"\"\"\n",
        "  return 4\n",
        "\n",
        "train_iter=data.DataLoader(mnist_train,batch_size,shuffle=True,num_workers=get_dataloader_workers())\n",
        "timer=d2l.Timer()\n",
        "for X,y in train_iter:\n",
        "  continue\n",
        "f'{timer.stop():2f} sec'"
      ],
      "execution_count": 13,
      "outputs": [
        {
          "output_type": "stream",
          "text": [
            "/usr/local/lib/python3.7/dist-packages/torch/utils/data/dataloader.py:481: UserWarning: This DataLoader will create 4 worker processes in total. Our suggested max number of worker in current system is 2, which is smaller than what this DataLoader is going to create. Please be aware that excessive worker creation might get DataLoader running slow or even freeze, lower the worker number to avoid potential slowness/freeze if necessary.\n",
            "  cpuset_checked))\n"
          ],
          "name": "stderr"
        },
        {
          "output_type": "execute_result",
          "data": {
            "application/vnd.google.colaboratory.intrinsic+json": {
              "type": "string"
            },
            "text/plain": [
              "'5.193115 sec'"
            ]
          },
          "metadata": {
            "tags": []
          },
          "execution_count": 13
        }
      ]
    },
    {
      "cell_type": "markdown",
      "metadata": {
        "id": "5YH0tInjyyQM"
      },
      "source": [
        "定义load_data_fashion_mnist函数"
      ]
    },
    {
      "cell_type": "code",
      "metadata": {
        "id": "BDoLsx_SpmId"
      },
      "source": [
        "def load_data_fashion_mnist(batch_size, resize=None):\n",
        "    \"\"\"下载Fashion-MNIST数据集，然后将其加载到内存中。\"\"\"\n",
        "    trans = [transforms.ToTensor()]\n",
        "    if resize:\n",
        "        trans.insert(0, transforms.Resize(resize))\n",
        "    trans = transforms.Compose(trans)\n",
        "    mnist_train = torchvision.datasets.FashionMNIST(root=\"../data\",\n",
        "                            train=True,\n",
        "                            transform=trans,\n",
        "                            download=True)\n",
        "    mnist_test = torchvision.datasets.FashionMNIST(root=\"../data\",\n",
        "                            train=False,\n",
        "                            transform=trans,\n",
        "                            download=True)\n",
        "    return (data.DataLoader(mnist_train, batch_size, shuffle=True,\n",
        "                            num_workers=get_dataloader_workers()),\n",
        "            data.DataLoader(mnist_test, batch_size, shuffle=False,\n",
        "                            num_workers=get_dataloader_workers()))"
      ],
      "execution_count": 14,
      "outputs": []
    }
  ]
}